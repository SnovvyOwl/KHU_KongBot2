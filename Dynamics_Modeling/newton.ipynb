{
  "nbformat": 4,
  "nbformat_minor": 0,
  "metadata": {
    "colab": {
      "name": "newton.ipynb",
      "provenance": [],
      "collapsed_sections": []
    },
    "kernelspec": {
      "name": "python3",
      "display_name": "Python 3"
    }
  },
  "cells": [
    {
      "cell_type": "markdown",
      "metadata": {
        "id": "6OsQI0UNGiZ5",
        "colab_type": "text"
      },
      "source": [
        "\n",
        "# 프레임 붙이기"
      ]
    },
    {
      "cell_type": "markdown",
      "metadata": {
        "id": "YWKHo09GAgiP",
        "colab_type": "text"
      },
      "source": [
        "\\\\(\\phantom{}^0_1T=\\\\)\n",
        "\\begin{bmatrix}\n",
        "1 &0 &0 & -x_o\\\\\n",
        "0& 1&  0& 0\\\\\n",
        "0& 0& 1 &0\\\\\n",
        "0&0&0&1\n",
        "\\end{bmatrix}\n",
        "\n",
        "\\\\(\\phantom{}^1_2T=\\\\)\n",
        "\\begin{bmatrix}\n",
        "1 &0 &0 & 0\\\\\n",
        "0& 1&  0& y_o\\\\\n",
        "0& 0& 1 &0\\\\\n",
        "0&0&0&1\n",
        "\\end{bmatrix}\n",
        "\n",
        "\\\\(\\phantom{}^2_3R=\\\\)\n",
        "\\begin{bmatrix}\n",
        "\\cos{\\theta_{oz}}& -\\sin{\\theta_{oz}}&  0 & 0 \\\\\n",
        "\\sin{\\theta_{oz}}& \\cos{\\theta_{oz}}&  0 & 0\\\\\n",
        "0& 0&1&0 \\\\\n",
        "0&0&0&1\n",
        "\\end{bmatrix}\n",
        "\n",
        "\n",
        "\\\\(\\phantom{}^3_4R=\\\\)\n",
        "\\begin{bmatrix}\n",
        "\\cos{\\theta_{oy}}& 0 & \\sin{\\theta_{oy}} & 0 \\\\\n",
        "0 &1 &0 &0 \\\\\n",
        "-\\sin{\\theta_{oy}}& 0 & \\cos{\\theta_{oy}}&0 \\\\\n",
        "0 &0 &0 &1\n",
        "\\end{bmatrix}\n",
        "\n",
        "\\\\(\\phantom{}^4_5R=\\\\)\n",
        "\\begin{bmatrix}\n",
        "1 &0 &0 &0 \\\\\n",
        "0 & \\cos{\\theta_{ox}}& -\\sin{\\theta_{ox}} & 0 \\\\\n",
        "0 & \\sin{\\theta_{ox}}& \\cos{\\theta_{ox}}&0 \\\\\n",
        "0 &0 &0 &1\n",
        "\\end{bmatrix}\n",
        "\n",
        "\\\\(\\phantom{}^5_6R=\\\\)\n",
        "\\begin{bmatrix}\n",
        "\\cos{\\theta_{iy}}& 0 & \\sin{\\theta_{iy}} & 0 \\\\\n",
        "0 &1 &0 &0 \\\\\n",
        "-\\sin{\\theta_{iy}}& 0 & \\cos{\\theta_{iy}}&0 \\\\\n",
        "0 &0 &0 &1\n",
        "\\end{bmatrix}\n"
      ]
    },
    {
      "cell_type": "markdown",
      "metadata": {
        "id": "dte_ncVMXbf-",
        "colab_type": "text"
      },
      "source": [
        "#Tranformation MATRIX\n",
        "\\\\(\\phantom{}^0_5T=\\\\)\n",
        "\\begin{bmatrix}\n",
        "\\cos{\\theta_{oy}}\\cos{\\theta_{oz}} &  \\cos{\\theta_{oz}}\\sin{\\theta_{ox}}\\sin{\\theta_{oy}} - \\cos{\\theta_{ox}}\\sin{\\theta_{oz}} &  \\sin{\\theta_{ox}}\\sin{\\theta_{oz}} + \\cos{\\theta_{ox}}\\cos{\\theta_{oz}}\\sin{\\theta_{oy}} &   -x_0\\\\\n",
        "\\cos{\\theta_{oy}}\\sin{\\theta_{oz}} &  \\cos{\\theta_{ox}}\\cos{\\theta_{oz}} + \\sin{\\theta_{ox}}\\sin{\\theta_{oy}}\\sin{\\theta_{oz}} &  \\cos{\\theta_{ox}}\\sin{\\theta_{oy}}\\sin{\\theta_{oz}} - \\cos{\\theta_{oz}}\\sin{\\theta_{ox}} &  y_0\\\\\n",
        "       -\\sin{\\theta_{oy}} &                                              \\cos{\\theta_{oy}}\\sin{\\theta_{ox}} &                                              \\cos{\\theta_{ox}}\\cos{\\theta_{oy}} &     0 \\\\\n",
        " 0 &                         0 &                                                                        0 &     1\n",
        "\\end{bmatrix}"
      ]
    },
    {
      "cell_type": "markdown",
      "metadata": {
        "id": "ElZ-MfnVaDXu",
        "colab_type": "text"
      },
      "source": [
        "\\\\(\\phantom{}^0_6T=\\\\)\n",
        "\\begin{bmatrix}\n",
        "  \\cos{\\theta_{iy}} \\cos{\\theta_{oy}} \\cos{\\theta_{oz}} -  \\sin{\\theta_{iy}}( \\sin{\\theta_{ox}} \\sin{\\theta_{oz}} +  \\cos{\\theta_{ox}} \\cos{\\theta_{oz}} \\sin{\\theta_{oy}}) &   \\cos{\\theta_{oz}} \\sin{\\theta_{ox}} \\sin{\\theta_{oy}} -  \\cos{\\theta_{ox}} \\sin{\\theta_{oz}} &   \\cos{\\theta_{iy}}( \\sin{\\theta_{ox}} \\sin{\\theta_{oz}} +  \\cos{\\theta_{ox}} \\cos{\\theta_{oz}} \\sin{\\theta_{oy}}) +  \\cos{\\theta_{oy}} \\cos{\\theta_{oz}} \\sin{\\theta_{iy}} &   -x_0 \\\\ \n",
        "\\sin{\\theta_{iy}}( \\cos{\\theta_{oz}} \\sin{\\theta_{ox}} -  \\cos{\\theta_{ox}} \\sin{\\theta_{oy}} \\sin{\\theta_{oz}}) +  \\cos{\\theta_{iy}} \\cos{\\theta_{oy}} \\sin{\\theta_{oz}} &   \\cos{\\theta_{ox}} \\cos{\\theta_{oz}} +  \\sin{\\theta_{ox}} \\sin{\\theta_{oy}} \\sin{\\theta_{oz}} &   \\cos{\\theta_{oy}} \\sin{\\theta_{iy}} \\sin{\\theta_{oz}} -  \\cos{\\theta_{iy}}( \\cos{\\theta_{oz}} \\sin{\\theta_{ox}} -  \\cos{\\theta_{ox}} \\sin{\\theta_{oy}} \\sin{\\theta_{oz}}) &  y_0\\\\                                                         -  \\cos{\\theta_{iy}} \\sin{\\theta_{oy}} -  \\cos{\\theta_{ox}} \\cos{\\theta_{oy}} \\sin{\\theta_{iy}} &                                               \\cos{\\theta_{oy}} \\sin{\\theta_{ox}} &                                                               \\cos{\\theta_{iy}} \\cos{\\theta_{ox}} \\cos{\\theta_{oy}} -  \\sin{\\theta_{iy}} \\sin{\\theta_{oy}} &     0\\\\                                                                                                                                0 &                                                                        0 &                                                                                                                                    0 &     1\n",
        "\\end{bmatrix}"
      ]
    },
    {
      "cell_type": "markdown",
      "metadata": {
        "id": "KeV3JO96b11t",
        "colab_type": "text"
      },
      "source": [
        "\\\\(\\phantom{}^0_{pl}T=\\\\)\n",
        "\\begin{bmatrix}\n",
        "\\sin{\\theta_{pl}}(\\cos{\\theta_{iy}}(\\sin{\\theta_{ox}}\\sin{\\theta_{oz}} + \\cos{\\theta_{ox}}\\cos{\\theta_{oz}}\\sin{\\theta_{oy}}) + \\cos{\\theta_{oy}}\\cos{\\theta_{oz}}\\sin{\\theta_{iy}}) - \\cos{\\theta_{pl}}(\\sin{\\theta_{iy}}(\\sin{\\theta_{ox}}\\sin{\\theta_{oz}} + \\cos{\\theta_{ox}}\\cos{\\theta_{oz}}\\sin{\\theta_{oy}}) - \\cos{\\theta_{iy}}\\cos{\\theta_{oy}}\\cos{\\theta_{oz}})& \\cos{\\theta_{oz}}\\sin{\\theta_{ox}}\\sin{\\theta_{oy}} - \\cos{\\theta_{ox}}\\sin{\\theta_{oz}}&   \\cos{\\theta_{pl}}(\\cos{\\theta_{iy}}(\\sin{\\theta_{ox}}\\sin{\\theta_{oz}} + \\cos{\\theta_{ox}}\\cos{\\theta_{oz}}\\sin{\\theta_{oy}}) + \\cos{\\theta_{oy}}\\cos{\\theta_{oz}}\\sin{\\theta_{iy}}) + \\sin{\\theta_{pl}}(\\sin{\\theta_{iy}}(\\sin{\\theta_{ox}}\\sin{\\theta_{oz}} + \\cos{\\theta_{ox}}\\cos{\\theta_{oz}}\\sin{\\theta_{oy}}) - \\cos{\\theta_{iy}}\\cos{\\theta_{oy}}\\cos{\\theta_{oz}})& -x_0 - (537\\cos{\\theta_{ox}}\\sin{\\theta_{oz}})/10000 - (5501\\cos{\\theta_{iy}}(\\sin{\\theta_{ox}}\\sin{\\theta_{oz}} + \\cos{\\theta_{ox}}\\cos{\\theta_{oz}}\\sin{\\theta_{oy}}))/12500 + (537\\cos{\\theta_{oz}}\\sin{\\theta_{ox}}\\sin{\\theta_{oy}})/10000 - (5501\\cos{\\theta_{oy}}\\cos{\\theta_{oz}}\\sin{\\theta_{iy}})/12500\\\\\n",
        " \\cos{\\theta_{pl}}(\\sin{\\theta_{iy}}(\\cos{\\theta_{oz}}\\sin{\\theta_{ox}} - \\cos{\\theta_{ox}}\\sin{\\theta_{oy}}\\sin{\\theta_{oz}}) + \\cos{\\theta_{iy}}\\cos{\\theta_{oy}}\\sin{\\theta_{oz}}) - \\sin{\\theta_{pl}}(\\cos{\\theta_{iy}}(\\cos{\\theta_{oz}}\\sin{\\theta_{ox}} - \\cos{\\theta_{ox}}\\sin{\\theta_{oy}}\\sin{\\theta_{oz}}) - \\cos{\\theta_{oy}}\\sin{\\theta_{iy}}\\sin{\\theta_{oz}})& \\cos{\\theta_{ox}}\\cos{\\theta_{oz}} + \\sin{\\theta_{ox}}\\sin{\\theta_{oy}}\\sin{\\theta_{oz}}& - \\cos{\\theta_{pl}}(\\cos{\\theta_{iy}}(\\cos{\\theta_{oz}}\\sin{\\theta_{ox}} - \\cos{\\theta_{ox}}\\sin{\\theta_{oy}}\\sin{\\theta_{oz}}) - \\cos{\\theta_{oy}}\\sin{\\theta_{iy}}\\sin{\\theta_{oz}}) - \\sin{\\theta_{pl}}(\\sin{\\theta_{iy}}(\\cos{\\theta_{oz}}\\sin{\\theta_{ox}} - \\cos{\\theta_{ox}}\\sin{\\theta_{oy}}\\sin{\\theta_{oz}}) + \\cos{\\theta_{iy}}\\cos{\\theta_{oy}}\\sin{\\theta_{oz}})& (537\\cos{\\theta_{ox}}\\cos{\\theta_{oz}})/10000 y_0 + (5501\\cos{\\theta_{iy}}(\\cos{\\theta_{oz}}\\sin{\\theta_{ox}} - \\cos{\\theta_{ox}}\\sin{\\theta_{oy}}\\sin{\\theta_{oz}}))/12500 - (5501\\cos{\\theta_{oy}}\\sin{\\theta_{iy}}\\sin{\\theta_{oz}})/12500 + (537\\sin{\\theta_{ox}}\\sin{\\theta_{oy}}\\sin{\\theta_{oz}})/10000\\\\\n",
        "                                                                                                                       - \\cos{\\theta_{pl}}(\\cos{\\theta_{iy}}\\sin{\\theta_{oy}} + \\cos{\\theta_{ox}}\\cos{\\theta_{oy}}\\sin{\\theta_{iy}}) - \\sin{\\theta_{pl}}(\\sin{\\theta_{iy}}\\sin{\\theta_{oy}} - \\cos{\\theta_{iy}}\\cos{\\theta_{ox}}\\cos{\\theta_{oy}})&                                             \\cos{\\theta_{oy}}\\sin{\\theta_{ox}}&                                                                                                                           \\sin{\\theta_{pl}}(\\cos{\\theta_{iy}}\\sin{\\theta_{oy}} + \\cos{\\theta_{ox}}\\cos{\\theta_{oy}}\\sin{\\theta_{iy}}) - \\cos{\\theta_{pl}}(\\sin{\\theta_{iy}}\\sin{\\theta_{oy}} - \\cos{\\theta_{iy}}\\cos{\\theta_{ox}}\\cos{\\theta_{oy}})&                                                                                                                           (537\\cos{\\theta_{oy}}\\sin{\\theta_{ox}})/10000 + (5501\\sin{\\theta_{iy}}\\sin{\\theta_{oy}})/12500 - (5501\\cos{\\theta_{iy}}\\cos{\\theta_{ox}}\\cos{\\theta_{oy}})/12500\\\\\n",
        "                                                                                                                                                                                                                                                                                                         0&                                                                       0&                                                                                                                                                                                                                                                                                                           0&                                                                                                                                                                                                                                                                     1\n",
        "\\end{bmatrix}"
      ]
    },
    {
      "cell_type": "markdown",
      "metadata": {
        "id": "Ux48wQpMfaMr",
        "colab_type": "text"
      },
      "source": [
        "\\\\(\\phantom{}^0_{pr}T=\\\\)\n",
        "\\begin{bmatrix}\n",
        "  - \\cos{\\theta_{pr}}(\\sin{\\theta_{iy}}(\\sin{\\theta_{ox}}\\sin{\\theta_{oz}} + \\cos{\\theta_{ox}}\\cos{\\theta_{oz}}\\sin{\\theta_{oy}}) - \\cos{\\theta_{iy}}\\cos{\\theta_{oy}}\\cos{\\theta_{oz}}) - \\sin{\\theta_{pr}}(\\cos{\\theta_{iy}}(\\sin{\\theta_{ox}}\\sin{\\theta_{oz}} + \\cos{\\theta_{ox}}\\cos{\\theta_{oz}}\\sin{\\theta_{oy}}) + \\cos{\\theta_{oy}}\\cos{\\theta_{oz}}\\sin{\\theta_{iy}})& \\cos{\\theta_{oz}}\\sin{\\theta_{ox}}\\sin{\\theta_{oy}} - \\cos{\\theta_{ox}}\\sin{\\theta_{oz}}& \\cos{\\theta_{pr}}(\\cos{\\theta_{iy}}(\\sin{\\theta_{ox}}\\sin{\\theta_{oz}} + \\cos{\\theta_{ox}}\\cos{\\theta_{oz}}\\sin{\\theta_{oy}}) + \\cos{\\theta_{oy}}\\cos{\\theta_{oz}}\\sin{\\theta_{iy}}) - \\sin{\\theta_{pr}}(\\sin{\\theta_{iy}}(\\sin{\\theta_{ox}}\\sin{\\theta_{oz}} + \\cos{\\theta_{ox}}\\cos{\\theta_{oz}}\\sin{\\theta_{oy}}) - \\cos{\\theta_{iy}}\\cos{\\theta_{oy}}\\cos{\\theta_{oz}})& -x_0 + (537\\cos{\\theta_{ox}}\\sin{\\theta_{oz}})/10000 - (5501\\cos{\\theta_{iy}}(\\sin{\\theta_{ox}}\\sin{\\theta_{oz}} + \\cos{\\theta_{ox}}\\cos{\\theta_{oz}}\\sin{\\theta_{oy}}))/12500 - (537\\cos{\\theta_{oz}}\\sin{\\theta_{ox}}\\sin{\\theta_{oy}})/10000 - (5501\\cos{\\theta_{oy}}\\cos{\\theta_{oz}}\\sin{\\theta_{iy}})/12500\\\\\n",
        "   \\cos{\\theta_{pr}}(\\sin{\\theta_{iy}}(\\cos{\\theta_{oz}}\\sin{\\theta_{ox}} - \\cos{\\theta_{ox}}\\sin{\\theta_{oy}}\\sin{\\theta_{oz}}) + \\cos{\\theta_{iy}}\\cos{\\theta_{oy}}\\sin{\\theta_{oz}}) + \\sin{\\theta_{pr}}(\\cos{\\theta_{iy}}(\\cos{\\theta_{oz}}\\sin{\\theta_{ox}} - \\cos{\\theta_{ox}}\\sin{\\theta_{oy}}\\sin{\\theta_{oz}}) - \\cos{\\theta_{oy}}\\sin{\\theta_{iy}}\\sin{\\theta_{oz}})& \\cos{\\theta_{ox}}\\cos{\\theta_{oz}} + \\sin{\\theta_{ox}}\\sin{\\theta_{oy}}\\sin{\\theta_{oz}}& \\sin{\\theta_{pr}}(\\sin{\\theta_{iy}}(\\cos{\\theta_{oz}}\\sin{\\theta_{ox}} - \\cos{\\theta_{ox}}\\sin{\\theta_{oy}}\\sin{\\theta_{oz}}) + \\cos{\\theta_{iy}}\\cos{\\theta_{oy}}\\sin{\\theta_{oz}}) - \\cos{\\theta_{pr}}(\\cos{\\theta_{iy}}(\\cos{\\theta_{oz}}\\sin{\\theta_{ox}} - \\cos{\\theta_{ox}}\\sin{\\theta_{oy}}\\sin{\\theta_{oz}}) - \\cos{\\theta_{oy}}\\sin{\\theta_{iy}}\\sin{\\theta_{oz}})& (5501\\cos{\\theta_{iy}}(\\cos{\\theta_{oz}}\\sin{\\theta_{ox}} - \\cos{\\theta_{ox}}\\sin{\\theta_{oy}}\\sin{\\theta_{oz}}))/12500 - (537\\cos{\\theta_{ox}}\\cos{\\theta_{oz}})/10000 +y_0 - (5501\\cos{\\theta_{oy}}\\sin{\\theta_{iy}}\\sin{\\theta_{oz}})/12500 - (537\\sin{\\theta_{ox}}\\sin{\\theta_{oy}}\\sin{\\theta_{oz}})/10000\\\\\n",
        "                                                                                                                           \\sin{\\theta_{pr}}(\\sin{\\theta_{iy}}\\sin{\\theta_{oy}} - \\cos{\\theta_{iy}}\\cos{\\theta_{ox}}\\cos{\\theta_{oy}}) - \\cos{\\theta_{pr}}(\\cos{\\theta_{iy}}\\sin{\\theta_{oy}} + \\cos{\\theta_{ox}}\\cos{\\theta_{oy}}\\sin{\\theta_{iy}})&                                             \\cos{\\theta_{oy}}\\sin{\\theta_{ox}}&                                                                                                                       - \\cos{\\theta_{pr}}(\\sin{\\theta_{iy}}\\sin{\\theta_{oy}} - \\cos{\\theta_{iy}}\\cos{\\theta_{ox}}\\cos{\\theta_{oy}}) - \\sin{\\theta_{pr}}(\\cos{\\theta_{iy}}\\sin{\\theta_{oy}} + \\cos{\\theta_{ox}}\\cos{\\theta_{oy}}\\sin{\\theta_{iy}})&                                                                                                                           (5501\\sin{\\theta_{iy}}\\sin{\\theta_{oy}})/12500 - (537\\cos{\\theta_{oy}}\\sin{\\theta_{ox}})/10000 - (5501\\cos{\\theta_{iy}}\\cos{\\theta_{ox}}\\cos{\\theta_{oy}})/12500\\\\\n",
        "                                                                                                                                                                                                                                                                                                           0&                                                                       0&                                                                                                                                                                                                                                                                                                         0&                                                                                                                                                                                                                                                                     1\\\\\n",
        "\\end{bmatrix}"
      ]
    },
    {
      "cell_type": "markdown",
      "metadata": {
        "id": "8qviCyHb3Fom",
        "colab_type": "text"
      },
      "source": [
        "\\\\(\\theta_{im}=\\theta_{iy}=\\theta_{AHRSy}-\\theta_{Ey}\\\\)\n",
        "\n",
        "\\\\(\\theta_{oy}=\\theta_{AHRSy}+\\theta_{Ey}\\\\)"
      ]
    },
    {
      "cell_type": "markdown",
      "metadata": {
        "id": "N7zpxHxhFNT-",
        "colab_type": "text"
      },
      "source": [
        "\\\\(\\phantom{}^0_5R=\\\\)\n",
        "\\begin{bmatrix}\n",
        "\\phantom{}_5R_{11} & \\phantom{}_5R_{12} & \\phantom{}_5R_{13}\\\\\n",
        "\\phantom{}_5R_{21} &\\phantom{}_5R_{22} &\\phantom{}_5R_{23} \\\\\n",
        "\\phantom{}_5R_{31} &\\phantom{}_5R_{32} &\\phantom{}_5R_{33} \\\\\n",
        "\\end{bmatrix}\n",
        "\n",
        "\n",
        "---\n",
        "\n",
        "\n",
        "\\\\(\\phantom{}^0_6R=\\\\)\n",
        "\\begin{bmatrix}\n",
        "\\phantom{}_6R_{11} & \\phantom{}_6R_{12} & \\phantom{}_6R_{13}\\\\\n",
        "\\phantom{}_6R_{21} &\\phantom{}_6R_{22} &\\phantom{}_6R_{23} \\\\\n",
        "\\phantom{}_6R_{31} &\\phantom{}_6R_{32} &\\phantom{}_6R_{33} \\\\\n",
        "\\end{bmatrix}\n",
        "\n",
        "\n",
        "---\n",
        "\n",
        "\n",
        "\\\\(\\phantom{}^0_{pl}R=\\\\)\n",
        "\\begin{bmatrix}\n",
        "\\phantom{}_{pl}R_{11} & \\phantom{}_{pl}R_{12} & \\phantom{}_{pl}R_{13}\\\\\n",
        "\\phantom{}_{pl}R_{21} &\\phantom{}_{pl}R_{22} &\\phantom{}_{pl}R_{23} \\\\\n",
        "\\phantom{}_{pl}R_{31} &\\phantom{}_{pl}R_{32} &\\phantom{}_{pl}R_{33} \\\\\n",
        "\\end{bmatrix}\n",
        "\n",
        "\n",
        "---\n",
        "\n",
        "\n",
        "\n",
        "\n",
        "\\\\(\\phantom{}^0_{pr}R=\\\\)\n",
        "\\begin{bmatrix}\n",
        "\\phantom{}_{pr}R_{11} & \\phantom{}_{pr}R_{12} & \\phantom{}_{pr}R_{13}\\\\\n",
        "\\phantom{}_{pr}R_{21} &\\phantom{}_{pr}R_{22} &\\phantom{}_{pr}R_{23} \\\\\n",
        "\\phantom{}_{pr}R_{31} &\\phantom{}_{pr}R_{32} &\\phantom{}_{pr}R_{33} \\\\\n",
        "\\end{bmatrix}\n",
        "\n"
      ]
    },
    {
      "cell_type": "markdown",
      "metadata": {
        "id": "4KCQa155OFrQ",
        "colab_type": "text"
      },
      "source": [
        "\\\\(M=\\\\)\n",
        "\\begin{bmatrix}\n",
        "m_5 &0 &0 &0 &0 &0 &0 &0 &0 &0 &0 &0 &0 &0 &0 &0 &0 &0 &0 &0 &0 &0 &0 &0 &0 &0 &0 &0 &0 &0  \\\\\n",
        "0 &m_5 &0 &0 &0 &0 &0 &0 &0 &0 &0 &0 &0 &0 &0 &0 &0 &0 &0 &0 &0 &0 &0 &0 &0 &0 &0 &0 &0 &0 \\\\\n",
        "0 & 0 &m_5 &0 &0 &0 &0 &0 &0 &0 &0 &0 &0 &0 &0 &0 &0 &0 &0 &0 &0 &0 &0 &0 &0 &0 &0 &0 &0 &0  \\\\\n",
        "0 & 0 &0 &J^5_{xx} &J^5_{xy} &J^5_{xz} &0 &0 &0 &0 &0 &0 &0 &0 &0 &0 &0 &0 &0 &0 &0 &0 &0 &0 &0 &0 &0 &0 &0 &0  \\\\\n",
        "0 & 0 &0 &J^5_{yx} &J^5_{yy} &J^5_{yz} &0 &0 &0 &0 &0 &0 &0 &0 &0 &0 &0 &0 &0 &0 &0 &0 &0 &0 &0 &0 &0 &0 &0 &0  \\\\\n",
        "0 & 0 &0 &J^5_{zx} &J^5_{zy} &J^5_{zz} &0 &0 &0 &0 &0 &0 &0 &0 &0 &0 &0 &0 &0 &0 &0 &0 &0 &0 &0 &0 &0 &0 &0 &0  \\\\\n",
        "0 & 0 &0 &0 &0 &0 &m_6&0 &0 &0 &0 &0 &0 &0 &0 &0 &0 &0 &0 &0 &0 &0 &0 &0 &0 &0 &0 &0 &0 &0 \\\\\n",
        "0 & 0 &0 &0 &0 &0 &0 &m_6&0 &0 &0 &0 &0 &0 &0 &0 &0 &0 &0 &0 &0 &0 &0 &0 &0 &0 &0 &0 &0 &0 \\\\\n",
        "0 & 0 &0 &0 &0 &0 &0 &0 &m_6&0 &0 &0 &0 &0 &0 &0 &0 &0 &0 &0 &0 &0 &0 &0 &0 &0 &0 &0 &0 &0  \\\\\n",
        "0 & 0 &0  &0 &0 &0 &0 &0 &0 &J^6_{xx} &J^6_{xy} &J^6_{xz} &0 &0 &0 &0 &0 &0 &0 &0 &0 &0 &0 &0 &0 &0 &0 &0 &0 &0  \\\\\n",
        "0 & 0 &0  &0 &0 &0 &0 &0 &0&J^6_{yx} &J^6_{yy} &J^6_{yz} &0 &0 &0 &0 &0 &0 &0 &0 &0 &0 &0 &0 &0 &0 &0 &0 &0 &0  \\\\\n",
        "0 & 0 &0  &0 &0 &0 &0 &0 &0&J^6_{zx} &J^6_{zy} &J^6_{zz} &0 &0 &0 &0 &0 &0 &0 &0 &0 &0 &0 &0 &0 &0 &0 &0 &0 &0  \\\\\n",
        "0 & 0 &0 &0 &0 &0 &0&0 &0 &0 &0 &0 &m_{pl} &0 &0 &0 &0 &0 &0 &0 &0 &0 &0 &0 &0 &0 &0 &0 &0 &0 \\\\\n",
        "0 & 0 &0 &0 &0 &0 &0&0 &0 &0 &0 &0 &0 &m_{pl} &0 &0 &0 &0 &0 &0 &0 &0 &0 &0 &0 &0 &0 &0 &0 &0  \\\\\n",
        "0 & 0 &0 &0 &0 &0 &0&0 &0 &0 &0 &0 &0 &0 &m_{pl} &0 &0 &0 &0 &0 &0 &0 &0 &0 &0 &0 &0 &0 &0 &0  \\\\\n",
        "0 & 0 &0 &0 &0 &0 &0&0 &0 &0 &0 &0 &0 &0 &0&J^{pl}_{xx} &J^{pl}_{xy} &J^{pl}_{xz} &0 &0 &0 &0 &0 &0 &0 &0 &0 &0 &0 &0  \\\\\n",
        "0 & 0 &0 &0 &0 &0 &0&0 &0 &0 &0 &0 &0 &0 &0&J^{pl}_{yx} &J^{pl}_{yy} &J^{pl}_{yz} &0 &0 &0 &0 &0 &0 &0 &0 &0 &0 &0 &0  \\\\\n",
        "0 & 0 &0 &0 &0 &0 &0&0 &0 &0 &0 &0 &0 &0 &0&J^{pl}_{zx} &J^{pl}_{zy} &J^{pl}_{zz} &0 &0 &0 &0 &0 &0 &0 &0 &0 &0 &0 &0 \\\\\n",
        "0 & 0 &0 &0 &0 &0 &0&0 &0 &0 &0 &0 &0 &0 &0 &0 &0 &0 &m_{pr} &0 &0 &0 &0 &0 &0 &0 &0 &0 &0 &0  \\\\\n",
        "0 & 0 &0 &0 &0 &0 &0&0 &0 &0 &0 &0 &0 &0 &0 &0 &0 &0 &0&m_{pr}  &0 &0 &0 &0 &0 &0 &0 &0 &0 &0  \\\\\n",
        "0 & 0 &0 &0 &0 &0 &0&0 &0 &0 &0 &0 &0 &0 &0 &0 &0 &0 &0&0  &m_{pr}  &0 &0 &0 &0 &0 &0 &0 &0 &0  \\\\\n",
        "0 & 0 &0 &0 &0 &0 &0&0 &0 &0 &0 &0 &0 &0 &0 &0 &0 &0 &0&0  &0  &J^{pr}_{xx}&J^{pr}_{xy} &J^{pr}_{xz}&0 &0 &0 &0 &0 &0  \\\\\n",
        "0 & 0 &0 &0 &0 &0 &0&0 &0 &0 &0 &0 &0 &0 &0 &0 &0 &0 &0&0  &0  &J^{pr}_{yx}&J^{pr}_{yy} &J^{pr}_{yz}&0 &0 &0 &0 &0 &0  \\\\\n",
        "0 & 0 &0 &0 &0 &0 &0&0 &0 &0 &0 &0 &0 &0 &0 &0 &0 &0 &0&0  &0  &J^{pr}_{zx}&J^{pr}_{zy} &J^{pr}_{zz}&0 &0 &0 &0 &0 &0  \\\\\n",
        "0 & 0 &0 &0 &0 &0 &0&0 &0 &0 &0 &0 &0 &0 &0 &0 &0 &0 &0&0  &0  &0&0 &0&m_t &0 &0 &0 &0 &0  \\\\\n",
        "0 & 0 &0 &0 &0 &0 &0&0 &0 &0 &0 &0 &0 &0 &0 &0 &0 &0 &0&0  &0  &0&0 &0&0 &m_t &0 &0 &0 &0  \\\\\n",
        "0 & 0 &0 &0 &0 &0 &0&0 &0 &0 &0 &0 &0 &0 &0 &0 &0 &0 &0&0  &0  &0&0 &0&0 &0 &m_t &0 &0 &0  \\\\\n",
        "0 & 0 &0 &0 &0 &0 &0&0 &0 &0 &0 &0 &0 &0 &0 &0 &0 &0 &0&0  &0  &0&0 &0&0 &0 &0 &J^{t}_{xx} &J^{t}_{xy} &J^{t}_{xz}  \\\\\n",
        "0 & 0 &0 &0 &0 &0 &0&0 &0 &0 &0 &0 &0 &0 &0 &0 &0 &0 &0&0  &0  &0&0 &0&0 &0 &0 &J^{t}_{yx} &J^{t}_{yy} &J^{t}_{yz}  \\\\\n",
        "0 & 0 &0 &0 &0 &0 &0&0 &0 &0 &0 &0 &0 &0 &0 &0 &0 &0 &0&0  &0  &0&0 &0&0 &0 &0 &J^{t}_{zx} &J^{t}_{zy} &J^{t}_{zz}  \\\\\n",
        "\\end{bmatrix}"
      ]
    },
    {
      "cell_type": "markdown",
      "metadata": {
        "id": "K7y5MecSVlQ3",
        "colab_type": "text"
      },
      "source": [
        "\\\\(C(q)^T=\\\\)\n",
        "\\begin{bmatrix}\n",
        "1&0 &0 &0 &0 &0 &0 &0 &0 &0 &0 &0 &0 &0 &0 &0 &0 &0 &0 &0 \\\\\n",
        "0&1 &0 &0 &0 &0 &0 &0 &0 &0 &0 &0 &0 &0 &0 &0 &0 &0 &0 &0\\\\\n",
        "0&0 &1 &0 &0 &0 &0 &0 &0 &0 &0 &0 &0 &0 &0 &0 &0 &0 &0 &0 \\\\\n",
        "0&-\\phantom{}_5R_{32}r_0 &\\phantom{}_5R_{22}r_0 &\\phantom{}_5R_{11} &\\phantom{}_5R_{13} &0 &0 &0 &0 &0 &0 &0 &0 &0 &0 &0 &0 &0 &0 &0 \\\\\n",
        "\\phantom{}_5R_{32}r_0&0 &-\\phantom{}_5R_{12}r_0 &\\phantom{}_5R_{21} &\\phantom{}_5R_{23} &0 &0 &0 &0 &0 &0 &0 &0 &0 &0 &0 &0 &0 &0 &0 \\\\\n",
        "-\\phantom{}_5R_{22}r_0&\\phantom{}_5R_{12}r_0 &0 &\\phantom{}_5R_{31} &\\phantom{}_5R_{33} &0 &0 &0 &0 &0 &0 &0 &0 &0 &0 &0 &0 &0 &0 &0 \\\\\n",
        "-1&0 &0 &0 &0 &-1 &0 &0 &0 &0 &-1 &0 &0 &0 &0 &-1 &0 &0 &0 &0 \\\\\n",
        "0&-1 &0 &0 &0 &0 &-1 &0 &0 &0 &0 &-1 &0 &0 &0 &0 &0 &0 &0 &0 \\\\\n",
        "0&0 &-1 &0 &0 &0 &0 &-1 &0 &0 &0 &0 &-1 &0 &0 &0 &-1 &0 &0 &0 \\\\\n",
        "0&\\phantom{}_5R_{32}r_0  &-\\phantom{}_5R_{22}r_0  &-\\phantom{}_5R_{11}&-\\phantom{}_5R_{13} &0 &0 &0 &-\\phantom{}_6R_{11} &-\\phantom{}_6R_{13} &0 &0 &0 &-\\phantom{}_6R_{11} &-\\phantom{}_6R_{31} &-\\phantom{}_6R_{12}(l_t+r_t) &0 &-\\phantom{}_6R_{11}  &-\\phantom{}_6R_{12}  &-\\phantom{}_6R_{13}  \\\\\n",
        "-\\phantom{}_5R_{32}r_0 &0 &\\phantom{}_5R_{12}r_0  &-\\phantom{}_5R_{21} &-\\phantom{}_5R_{23} &0 &0 &0 &-\\phantom{}_6R_{21} &-\\phantom{}_6R_{23}&0 &0 &0 &-\\phantom{}_6R_{21} &-\\phantom{}_6R_{23} &-\\phantom{}_6R_{22}(l_t+r_t) &0 &-\\phantom{}_6R_{21}  &-\\phantom{}_6R_{22}  &-\\phantom{}_6R_{23}  \\\\\n",
        "\\phantom{}_5R_{22}r_0 &-\\phantom{}_5R_{12}r_0  &0 &-\\phantom{}_5R_{31} &-\\phantom{}_5R_{33} &0 &0 &0 &-\\phantom{}_6R_{31} &-\\phantom{}_6R_{33} &0 &0 &0 &-\\phantom{}_6R_{31} &-\\phantom{}_6R_{33} &-\\phantom{}_6R_{32}(l_t+r_t) &0 &-\\phantom{}_6R_{31}  &-\\phantom{}_6R_{32}  &-\\phantom{}_6R_{33}   \\\\\n",
        "0&0 &0 &0 &0&1 &0 &0 &0 &0 &0 &0 &0 &0 &0 &0 &0 &0 &0 &0 \\\\\n",
        "0&0 &0 &0 &0&0 &1 &0 &0 &0 &0 &0 &0 &0 &0 &0 &0 &0 &0 &0 \\\\\n",
        "0&0 &0 &0 &0&0 &0 &1 &0 &0 &0 &0 &0 &0 &0 &0 &0 &0 &0 &0  \\\\\n",
        "0&0 &0 &0 &0&0 &0 &0 &\\phantom{}_6R_{11}&\\phantom{}_6R_{13} &0 &0 &0 &0 &0 &0 &0 &0 &0 &0 \\\\\n",
        "0&0 &0 &0 &0&0 &0 & 0&\\phantom{}_6R_{21}&\\phantom{}_6R_{23} &0 &0 &0 &0 &0 &0 &0 &0 &0 &0\\\\\n",
        "0&0 &0 &0 &0&0 &0 & 0&\\phantom{}_6R_{31}&\\phantom{}_6R_{33} &0 &0 &0 &0 &0 &0 &0 &0 &0 &0 \\\\\n",
        "0&0 &0 &0 &0&0 &0 &0 &0&0 &1 &0 &0 &0 &0 &0 &0 &0 &0 &0\\\\\n",
        "0&0 &0 &0 &0&0 &0 &0 &0&0 &0 &1 &0 &0 &0 &0 &0 &0 &0 &0\\\\\n",
        "0&0 &0 &0 &0&0 &0 &0 &0&0 &0 &0 &1 &0 &0 &0 &0 &0 &0 &0 \\\\\n",
        "0&0 &0 &0 &0&0 &0 &0 &0&0 &0 &0 &0 &\\phantom{}_6R_{11} &\\phantom{}_6R_{13} &0 &0  &0 &0 &0  \\\\\n",
        "0&0 &0 &0 &0&0 &0 &0 &0&0 &0 &0 &0 &\\phantom{}_6R_{21} &\\phantom{}_6R_{23} &0 &0 &0 &0 &0  \\\\\n",
        "0&0 &0 &0 &0&0 &0 &0 &0&0 &0 &0 &0 &\\phantom{}_6R_{31} &\\phantom{}_6R_{33} &0 &0 &0 &0 &0 \\\\\n",
        "0&0 &0 &0 &0&0 &0 &0 &0&0 &0 &0 &0 &0 &0&1 &0 &0 &0 &0 \\\\\n",
        "0&0 &0 &0 &0&0 &0 &0 &0&0 &0 &0 &0 &0 &0&0 &0 &0 &0 &0 \\\\\n",
        "0&0 &0 &0 &0&0 &0 &0 &0&0 &0 &0 &0 &0 &0&0 &1 &0 &0 &0 \\\\\n",
        "0&0 &0 &0 &0&0 &0 &0 &0&0 &0 &0 &0 &0 &0&\\phantom{}_6R_{12}(l_t+r_t)&0 &\\phantom{}_6R_{11}&\\phantom{}_6R_{12} &\\phantom{}_6R_{13} \\\\\n",
        "0&0 &0 &0 &0&0 &0 &0 &0&0 &0 &0 &0 &0 &0&\\phantom{}_6R_{22}(l_t+r_t)&0 &\\phantom{}_6R_{21}&\\phantom{}_6R_{22} &\\phantom{}_6R_{23} \\\\\n",
        "0&0 &0 &0 &0&0 &0 &0 &0&0 &0 &0 &0 &0 &0&\\phantom{}_6R_{32}(l_t+r_t)&0 &\\phantom{}_6R_{31}&\\phantom{}_6R_{32} &\\phantom{}_6R_{33} \\\\\n",
        "\\end{bmatrix}"
      ]
    },
    {
      "cell_type": "markdown",
      "metadata": {
        "id": "vhjM7-9djHOq",
        "colab_type": "text"
      },
      "source": [
        "\\\\(Q_e=\\\\)\n",
        "\\begin{bmatrix}\n",
        "0\\\\\n",
        "0\\\\\n",
        "-m^5g\\\\\n",
        "-\\phantom{}_5R_{12}\\tau^i_{y}\\\\\n",
        "-\\phantom{}_5R_{22}\\tau^i_{y}\\\\\n",
        "-\\phantom{}_5R_{22}\\tau^i_{y}\\\\\n",
        "0\\\\\n",
        "0\\\\\n",
        "m^6g\\\\\n",
        "\\phantom{}_5R_{12}\\tau^i_{y}\\\\\n",
        "\\phantom{}_5R_{22}\\tau^i_{y}\\\\\n",
        "\\phantom{}_5R_{22}\\tau^i_{y}\\\\\n",
        "0\\\\\n",
        "0\\\\\n",
        "-m^6g\\\\\n",
        "\\phantom{}_5R_{12}\\tau^i_{y}-\\phantom{}_6R_{12}\\tau^{pl}_{y}+\\phantom{}_6R_{12}\\tau^{pr}_{y}-\\phantom{}_6R_{13}\\tau^{t}_{z}-\\phantom{}_6R_{23}m^6r^{idu}g \\\\\n",
        "\\phantom{}_5R_{22}\\tau^i_{y}-\\phantom{}_6R_{22}\\tau^{pl}_{y}+\\phantom{}_6R_{22}\\tau^{pr}_{y}-\\phantom{}_6R_{23}\\tau^{t}_{z}\\\\\n",
        "\\phantom{}_5R_{32}\\tau^i_{y}-\\phantom{}_6R_{32}\\tau^{pl}_{y}+\\phantom{}_6R_{32}\\tau^{pr}_{y}-\\phantom{}_6R_{33}\\tau^{t}_{z}+\\phantom{}_6R_{13}m^6r^{idu}g \\\\\n",
        "0\\\\\n",
        "0\\\\\n",
        "-m^{pl}g\\\\\n",
        "-\\phantom{}_{pl}R_{23}m^{pl}gl_p+\\phantom{}_6R_{12}\\tau^{pl}_{y}\\\\\n",
        "\\phantom{}_{pl}R_{13}m^{pl}gl_p+\\phantom{}_6R_{22}\\tau^{pl}_{y}\\\\\n",
        "\\phantom{}_6R_{32}\\tau^{pl}_{y}\\\\\n",
        "0\\\\\n",
        "0\\\\\n",
        "-m^{pr}g\\\\\n",
        "-\\phantom{}_{pr}R_{23}m^{pr}gl_p-\\phantom{}_6R_{12}\\tau^{pr}_{y}\\\\\n",
        "\\phantom{}_{pr}R_{13}m^{pr}gl_p-\\phantom{}_6R_{22}\\tau^{pr}_{y}\\\\\n",
        "-\\phantom{}_6R_{32}\\tau^{pr}_{y}\\\\\n",
        "\\phantom{}_6R_{12}\\frac{\\tau^t_{z}}{r_p}\\\\\n",
        "\\phantom{}_6R_{22}\\frac{\\tau^t_{z}}{r_p}\\\\\n",
        "\\phantom{}_6R_{32}\\frac{\\tau^t_{z}}{r_p}-m^{t}g\\\\\n",
        "0\\\\\n",
        "0\\\\\n",
        "0\\\\\n",
        "\\end{bmatrix}"
      ]
    },
    {
      "cell_type": "markdown",
      "metadata": {
        "id": "gjjeFnwzrWgV",
        "colab_type": "text"
      },
      "source": [
        "\\\\(Q_d=\\\\)\n",
        "\\begin{bmatrix}\n",
        "0\\\\\n",
        "0\\\\\n",
        "0\\\\\n",
        "\\phantom{}_5R_{21}\\ddot{\\theta_{iy}}\\\\\n",
        "\\phantom{}_5R_{23}\\ddot{\\theta_{iy}}\\\\\n",
        "\\phantom{}^0\\ddot{r_{pmlx}}\\\\\n",
        "\\phantom{}^0\\ddot{r_{pmly}}\\\\\n",
        "\\phantom{}^0\\ddot{r_{pmlz}}\\\\\n",
        "\\phantom{}_6R_{21}\\ddot{\\theta_{pl}}\\\\\n",
        "\\phantom{}_6R_{23}\\ddot{\\theta_{pl}}\\\\\n",
        "\\phantom{}^0\\ddot{r_{pmrx}}\\\\\n",
        "\\phantom{}^0\\ddot{r_{pmry}}\\\\\n",
        "\\phantom{}^0\\ddot{r_{pmrz}}\\\\\n",
        "-\\phantom{}_6R_{21}\\ddot{\\theta_{pr}}\\\\\n",
        "-\\phantom{}_6R_{23}\\ddot{\\theta_{pr}}\\\\\n",
        "\\phantom{}^0\\ddot{r_{tx}}\\\\\n",
        "\\phantom{}^0\\ddot{r_{tz}}\\\\\n",
        "0\\\\\n",
        "0\\\\\n",
        "0\\\\\n",
        "\\end{bmatrix}"
      ]
    }
  ]
}