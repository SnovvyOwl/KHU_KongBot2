{
  "nbformat": 4,
  "nbformat_minor": 0,
  "metadata": {
    "colab": {
      "name": "Largrangian.ipynb",
      "provenance": [],
      "collapsed_sections": []
    },
    "kernelspec": {
      "name": "python3",
      "display_name": "Python 3"
    }
  },
  "cells": [
    {
      "cell_type": "markdown",
      "metadata": {
        "id": "6OsQI0UNGiZ5",
        "colab_type": "text"
      },
      "source": [
        "\n",
        "# 프레임 붙이기"
      ]
    },
    {
      "cell_type": "markdown",
      "metadata": {
        "id": "YWKHo09GAgiP",
        "colab_type": "text"
      },
      "source": [
        "\\\\(\\phantom{}^0_1T=\\\\)\n",
        "\\begin{bmatrix}\n",
        "1 &0 &0 & -x_o\\\\\n",
        "0& 1&  0& 0\\\\\n",
        "0& 0& 1 &0\\\\\n",
        "0&0&0&1\n",
        "\\end{bmatrix}\n",
        "\n",
        "\\\\(\\phantom{}^1_2T=\\\\)\n",
        "\\begin{bmatrix}\n",
        "1 &0 &0 & 0\\\\\n",
        "0& 1&  0& y_o\\\\\n",
        "0& 0& 1 &0\\\\\n",
        "0&0&0&1\n",
        "\\end{bmatrix}\n",
        "\n",
        "\\\\(\\phantom{}^2_3R=\\\\)\n",
        "\\begin{bmatrix}\n",
        "\\cos{\\theta_{oz}}& -\\sin{\\theta_{oz}}&  0 & 0 \\\\\n",
        "\\sin{\\theta_{oz}}& \\cos{\\theta_{oz}}&  0 & 0\\\\\n",
        "0& 0&1&0 \\\\\n",
        "0&0&0&1\n",
        "\\end{bmatrix}\n",
        "\n",
        "\n",
        "\\\\(\\phantom{}^3_4R=\\\\)\n",
        "\\begin{bmatrix}\n",
        "\\cos{\\theta_{oy}}& 0 & \\sin{\\theta_{oy}} & 0 \\\\\n",
        "0 &1 &0 &0 \\\\\n",
        "-\\sin{\\theta_{oy}}& 0 & \\cos{\\theta_{oy}}&0 \\\\\n",
        "0 &0 &0 &1\n",
        "\\end{bmatrix}\n",
        "\n",
        "\\\\(\\phantom{}^4_5R=\\\\)\n",
        "\\begin{bmatrix}\n",
        "1 &0 &0 &0 \\\\\n",
        "0 & \\cos{\\theta_{ox}}& -\\sin{\\theta_{ox}} & 0 \\\\\n",
        "0 & \\sin{\\theta_{ox}}& \\cos{\\theta_{ox}}&0 \\\\\n",
        "0 &0 &0 &1\n",
        "\\end{bmatrix}\n",
        "\n",
        "\\\\(\\phantom{}^5_6R=\\\\)\n",
        "\\begin{bmatrix}\n",
        "\\cos{\\theta_{iy}}& 0 & \\sin{\\theta_{iy}} & 0 \\\\\n",
        "0 &1 &0 &0 \\\\\n",
        "-\\sin{\\theta_{iy}}& 0 & \\cos{\\theta_{iy}}&0 \\\\\n",
        "0 &0 &0 &1\n",
        "\\end{bmatrix}\n"
      ]
    },
    {
      "cell_type": "markdown",
      "metadata": {
        "id": "8qN263MlGo7x",
        "colab_type": "text"
      },
      "source": [
        "# 1. Shell\n",
        "\\\\(\\phantom{}^0V_o=[\\dot{x_o}, \\dot{y_o}, 0,1]^T\\\\)\n",
        "\n",
        "\\\\(\\phantom{}^0w_o=[\\frac{\\dot{y_o}}{r_o}, \\frac{-\\dot{x_o}}{r_o}, w_z,1]^T= [w_x, w_y, w_z,1]^T\\\\) \n",
        "\n",
        "\\\\(\\phantom{}^0w_{ox,}\\phantom{}^0w_{oz}= AHRS_{output}\\\\)\n",
        "\n",
        "\\\\(\\phantom{}^0w_{iy}+\\phantom{}^0w_{oy}= AHRS_{output}\\\\)\n",
        "\n",
        "\\\\(\\phantom{}^5w_{iy}-\\phantom{}^5w_{oy}= Encoder\\\\)\n",
        "\n",
        "\\\\(\\phantom{}^5w_o=[\\phantom{}^5w_{ox},\\phantom{}^5w_{oy},\\phantom{}^5w_{oz},1]^T\\\\)\n",
        "\n",
        "\\\\(\\phantom{}^0w_o=\\phantom{}^0_1T^1_2T^2_3R^3_4R^4_5R^5w_{o}\\\\)"
      ]
    },
    {
      "cell_type": "markdown",
      "metadata": {
        "id": "FBHkpI6sJyTM",
        "colab_type": "text"
      },
      "source": [
        "# 2. IDU\n",
        "\\\\(\\phantom{}^0\\vec{r_{idu}}=[\\phantom{}^ox_i,\\phantom{}^oy_i\\phantom{}^oz_i,1]^T= \\phantom{}^0_1T^1_2T^2_3R^3_4R^4_5R^5_6R^6\\vec{r_{idu}}\\\\)\n",
        "\n",
        "\\\\(\\phantom{}^6\\vec{r_{idu}}= IDU의\\ 무게중심 \\ 벡터\\\\)\n",
        "\n",
        "\\\\(\\phantom{}^0V_i=[\\dot{x_i}, \\dot{y_i}, \\dot{z_i},1]^T\\\\)\n",
        "\n",
        "\\\\(\\phantom{}^0_1T^1_2T^2_3R^3_4R^4_5R^5w_{i}\\\\)\n",
        "\n",
        "\n",
        "\\\\(\\phantom{}^5w_i= [w_{ix}, w_{iy}, w_{iz},1]^T\\\\) -> x,z는 AHRS로 센싱, y는 AHRS와 Encoder로 센싱\n"
      ]
    },
    {
      "cell_type": "markdown",
      "metadata": {
        "id": "Lnp0It6QMEu7",
        "colab_type": "text"
      },
      "source": [
        "# 3. Pendulum\n",
        "\\\\([\\phantom{}^ox_p,\\phantom{}^oy_p\\phantom{}^oz_p,1]^T= \\phantom{}^0_1T^1_2T^2_3R^3_4R^4_5R^5_6R^6_pT R(\\theta_p) \\phantom{}^6\\vec{l_{p}}\\\\)\n",
        "\n",
        "\n",
        "\\\\(R(\\theta_p)=\\\\)\n",
        "\\begin{bmatrix}\n",
        "\\cos{\\theta_{p}}& 0 & \\sin{\\theta_{p}} & 0 \\\\\n",
        "0 &1 &0 &0 \\\\\n",
        "-\\sin{\\theta_{p}}& 0 & \\cos{\\theta_{p}}&0 \\\\\n",
        "0 &0 &0 &1\n",
        "\\end{bmatrix}\n",
        "\n",
        "\\\\(\\phantom{}^6_pT=\\\\)\n",
        "\\begin{bmatrix}\n",
        "1& 0 & 0 & 0 \\\\\n",
        "0 &1 &0 & r_{pmy} \\\\\n",
        "0 & 0 & 1& r_{pmz} \\\\\n",
        "0 &0 &0 &1\n",
        "\\end{bmatrix}\n",
        "\n",
        "\\\\(\\phantom{}^0V_p=[\\dot{x_p}, \\dot{y_p}, \\dot{z_p},1]^T\\\\)\n",
        "\n",
        "\\\\(\\phantom{}^0w_p=\\phantom{}^0_1T^1_2T^2_3R^3_4R^4_5R^5_6R^6w_p\\\\)\n"
      ]
    },
    {
      "cell_type": "markdown",
      "metadata": {
        "id": "mFNk15LKWokP",
        "colab_type": "text"
      },
      "source": [
        "# 4. Tilt\n",
        "\\\\([\\phantom{}^ox_t,\\phantom{}^oy_t\\phantom{}^oz_t,1]^T= \\phantom{}^0_1T^1_2T^2_3R^3_4R^4_5R^5_6R^6\\vec{r_{t}}\\\\)\n",
        "\n",
        "\\\\(\\phantom{}^6r_t=[r_{tx},-r_{pin}\\theta_t,r_{tz},1]^T\\\\)\n",
        "\n",
        "\\\\(\\vec{w_t}=\\vec{w_i}\\\\)\n",
        "톱니바퀴에 에 회전은 고려하지 않음"
      ]
    },
    {
      "cell_type": "markdown",
      "metadata": {
        "id": "jW-vTA5RVV5F",
        "colab_type": "text"
      },
      "source": [
        "# Energy EQN.\n",
        "\\\\(\\phantom{}^0T=\\frac{1}{2}m_oV_o\\phantom{}^TV_o+\\frac{1}{2}m_{idu}V_i\\phantom{}^TV_i+\\frac{1}{2}m_tV_{t}\\phantom{}^TV_{t}+\\frac{1}{2}m_{pr}V_{pr}\\phantom{}^TV_{pr}+\\frac{1}{2}m_{pl}V_{pl}\\phantom{}^TV_{pr}+\\frac{1}{2}w_o\\phantom{}^TJ_o w_o+\\frac{1}{2}w_{i}\\phantom{}^TJ_{i} w_{i} +\\frac{1}{2}w_{pr}\\phantom{}^TJ_{pr} w_{pr}+\\frac{1}{2}w_{pl}\\phantom{}^TJ_{pl} w_{pl}+\\frac{1}{2}w_t\\phantom{}^TJ_t w_t\\\\)\n",
        "\n",
        "\n",
        "----------------------------------------------------------------\n",
        "\n",
        "\\\\(U=m_igz_{i}+m_{pr}gz_{pr}+m_{pl}gz_{pl}+m_tgz_{t}\\\\)"
      ]
    },
    {
      "cell_type": "markdown",
      "metadata": {
        "id": "_xmTd0tTcFNA",
        "colab_type": "text"
      },
      "source": [
        "#Tranformation MATRIX"
      ]
    },
    {
      "cell_type": "markdown",
      "metadata": {
        "id": "dte_ncVMXbf-",
        "colab_type": "text"
      },
      "source": [
        "\\\\(\\phantom{}^0_5T=\\\\)\n",
        "\\begin{bmatrix}\n",
        "\\cos{\\theta_{oy}}\\cos{\\theta_{oz}} &  \\cos{\\theta_{oz}}\\sin{\\theta_{ox}}\\sin{\\theta_{oy}} - \\cos{\\theta_{ox}}\\sin{\\theta_{oz}} &  \\sin{\\theta_{ox}}\\sin{\\theta_{oz}} + \\cos{\\theta_{ox}}\\cos{\\theta_{oz}}\\sin{\\theta_{oy}} &   -x_0\\\\\n",
        "\\cos{\\theta_{oy}}\\sin{\\theta_{oz}} &  \\cos{\\theta_{ox}}\\cos{\\theta_{oz}} + \\sin{\\theta_{ox}}\\sin{\\theta_{oy}}\\sin{\\theta_{oz}} &  \\cos{\\theta_{ox}}\\sin{\\theta_{oy}}\\sin{\\theta_{oz}} - \\cos{\\theta_{oz}}\\sin{\\theta_{ox}} &  y_0\\\\\n",
        "       -\\sin{\\theta_{oy}} &                                              \\cos{\\theta_{oy}}\\sin{\\theta_{ox}} &                                              \\cos{\\theta_{ox}}\\cos{\\theta_{oy}} &     0 \\\\\n",
        " 0 &                         0 &                                                                        0 &     1\n",
        "\\end{bmatrix}"
      ]
    },
    {
      "cell_type": "markdown",
      "metadata": {
        "id": "ElZ-MfnVaDXu",
        "colab_type": "text"
      },
      "source": [
        "\\\\(\\phantom{}^0_6T=\\\\)\n",
        "\\begin{bmatrix}\n",
        "  \\cos{\\theta_{iy}} \\cos{\\theta_{oy}} \\cos{\\theta_{oz}} -  \\sin{\\theta_{iy}}( \\sin{\\theta_{ox}} \\sin{\\theta_{oz}} +  \\cos{\\theta_{ox}} \\cos{\\theta_{oz}} \\sin{\\theta_{oy}}) &   \\cos{\\theta_{oz}} \\sin{\\theta_{ox}} \\sin{\\theta_{oy}} -  \\cos{\\theta_{ox}} \\sin{\\theta_{oz}} &   \\cos{\\theta_{iy}}( \\sin{\\theta_{ox}} \\sin{\\theta_{oz}} +  \\cos{\\theta_{ox}} \\cos{\\theta_{oz}} \\sin{\\theta_{oy}}) +  \\cos{\\theta_{oy}} \\cos{\\theta_{oz}} \\sin{\\theta_{iy}} &   -x_0 \\\\ \n",
        "\\sin{\\theta_{iy}}( \\cos{\\theta_{oz}} \\sin{\\theta_{ox}} -  \\cos{\\theta_{ox}} \\sin{\\theta_{oy}} \\sin{\\theta_{oz}}) +  \\cos{\\theta_{iy}} \\cos{\\theta_{oy}} \\sin{\\theta_{oz}} &   \\cos{\\theta_{ox}} \\cos{\\theta_{oz}} +  \\sin{\\theta_{ox}} \\sin{\\theta_{oy}} \\sin{\\theta_{oz}} &   \\cos{\\theta_{oy}} \\sin{\\theta_{iy}} \\sin{\\theta_{oz}} -  \\cos{\\theta_{iy}}( \\cos{\\theta_{oz}} \\sin{\\theta_{ox}} -  \\cos{\\theta_{ox}} \\sin{\\theta_{oy}} \\sin{\\theta_{oz}}) &  y_0\\\\                                                         -  \\cos{\\theta_{iy}} \\sin{\\theta_{oy}} -  \\cos{\\theta_{ox}} \\cos{\\theta_{oy}} \\sin{\\theta_{iy}} &                                               \\cos{\\theta_{oy}} \\sin{\\theta_{ox}} &                                                               \\cos{\\theta_{iy}} \\cos{\\theta_{ox}} \\cos{\\theta_{oy}} -  \\sin{\\theta_{iy}} \\sin{\\theta_{oy}} &     0\\\\                                                                                                                                0 &                                                                        0 &                                                                                                                                    0 &     1\n",
        "\\end{bmatrix}"
      ]
    },
    {
      "cell_type": "markdown",
      "metadata": {
        "id": "KeV3JO96b11t",
        "colab_type": "text"
      },
      "source": [
        "\\\\(\\phantom{}^0_{pl}T=\\\\)\n",
        "\\begin{bmatrix}\n",
        "\\sin{\\theta_{pl}}(\\cos{\\theta_{iy}}(\\sin{\\theta_{ox}}\\sin{\\theta_{oz}} + \\cos{\\theta_{ox}}\\cos{\\theta_{oz}}\\sin{\\theta_{oy}}) + \\cos{\\theta_{oy}}\\cos{\\theta_{oz}}\\sin{\\theta_{iy}}) - \\cos{\\theta_{pl}}(\\sin{\\theta_{iy}}(\\sin{\\theta_{ox}}\\sin{\\theta_{oz}} + \\cos{\\theta_{ox}}\\cos{\\theta_{oz}}\\sin{\\theta_{oy}}) - \\cos{\\theta_{iy}}\\cos{\\theta_{oy}}\\cos{\\theta_{oz}})& \\cos{\\theta_{oz}}\\sin{\\theta_{ox}}\\sin{\\theta_{oy}} - \\cos{\\theta_{ox}}\\sin{\\theta_{oz}}&   \\cos{\\theta_{pl}}(\\cos{\\theta_{iy}}(\\sin{\\theta_{ox}}\\sin{\\theta_{oz}} + \\cos{\\theta_{ox}}\\cos{\\theta_{oz}}\\sin{\\theta_{oy}}) + \\cos{\\theta_{oy}}\\cos{\\theta_{oz}}\\sin{\\theta_{iy}}) + \\sin{\\theta_{pl}}(\\sin{\\theta_{iy}}(\\sin{\\theta_{ox}}\\sin{\\theta_{oz}} + \\cos{\\theta_{ox}}\\cos{\\theta_{oz}}\\sin{\\theta_{oy}}) - \\cos{\\theta_{iy}}\\cos{\\theta_{oy}}\\cos{\\theta_{oz}})& -x_0 - (537\\cos{\\theta_{ox}}\\sin{\\theta_{oz}})/10000 - (5501\\cos{\\theta_{iy}}(\\sin{\\theta_{ox}}\\sin{\\theta_{oz}} + \\cos{\\theta_{ox}}\\cos{\\theta_{oz}}\\sin{\\theta_{oy}}))/12500 + (537\\cos{\\theta_{oz}}\\sin{\\theta_{ox}}\\sin{\\theta_{oy}})/10000 - (5501\\cos{\\theta_{oy}}\\cos{\\theta_{oz}}\\sin{\\theta_{iy}})/12500\\\\\n",
        " \\cos{\\theta_{pl}}(\\sin{\\theta_{iy}}(\\cos{\\theta_{oz}}\\sin{\\theta_{ox}} - \\cos{\\theta_{ox}}\\sin{\\theta_{oy}}\\sin{\\theta_{oz}}) + \\cos{\\theta_{iy}}\\cos{\\theta_{oy}}\\sin{\\theta_{oz}}) - \\sin{\\theta_{pl}}(\\cos{\\theta_{iy}}(\\cos{\\theta_{oz}}\\sin{\\theta_{ox}} - \\cos{\\theta_{ox}}\\sin{\\theta_{oy}}\\sin{\\theta_{oz}}) - \\cos{\\theta_{oy}}\\sin{\\theta_{iy}}\\sin{\\theta_{oz}})& \\cos{\\theta_{ox}}\\cos{\\theta_{oz}} + \\sin{\\theta_{ox}}\\sin{\\theta_{oy}}\\sin{\\theta_{oz}}& - \\cos{\\theta_{pl}}(\\cos{\\theta_{iy}}(\\cos{\\theta_{oz}}\\sin{\\theta_{ox}} - \\cos{\\theta_{ox}}\\sin{\\theta_{oy}}\\sin{\\theta_{oz}}) - \\cos{\\theta_{oy}}\\sin{\\theta_{iy}}\\sin{\\theta_{oz}}) - \\sin{\\theta_{pl}}(\\sin{\\theta_{iy}}(\\cos{\\theta_{oz}}\\sin{\\theta_{ox}} - \\cos{\\theta_{ox}}\\sin{\\theta_{oy}}\\sin{\\theta_{oz}}) + \\cos{\\theta_{iy}}\\cos{\\theta_{oy}}\\sin{\\theta_{oz}})& (537\\cos{\\theta_{ox}}\\cos{\\theta_{oz}})/10000 y_0 + (5501\\cos{\\theta_{iy}}(\\cos{\\theta_{oz}}\\sin{\\theta_{ox}} - \\cos{\\theta_{ox}}\\sin{\\theta_{oy}}\\sin{\\theta_{oz}}))/12500 - (5501\\cos{\\theta_{oy}}\\sin{\\theta_{iy}}\\sin{\\theta_{oz}})/12500 + (537\\sin{\\theta_{ox}}\\sin{\\theta_{oy}}\\sin{\\theta_{oz}})/10000\\\\\n",
        "                                                                                                                       - \\cos{\\theta_{pl}}(\\cos{\\theta_{iy}}\\sin{\\theta_{oy}} + \\cos{\\theta_{ox}}\\cos{\\theta_{oy}}\\sin{\\theta_{iy}}) - \\sin{\\theta_{pl}}(\\sin{\\theta_{iy}}\\sin{\\theta_{oy}} - \\cos{\\theta_{iy}}\\cos{\\theta_{ox}}\\cos{\\theta_{oy}})&                                             \\cos{\\theta_{oy}}\\sin{\\theta_{ox}}&                                                                                                                           \\sin{\\theta_{pl}}(\\cos{\\theta_{iy}}\\sin{\\theta_{oy}} + \\cos{\\theta_{ox}}\\cos{\\theta_{oy}}\\sin{\\theta_{iy}}) - \\cos{\\theta_{pl}}(\\sin{\\theta_{iy}}\\sin{\\theta_{oy}} - \\cos{\\theta_{iy}}\\cos{\\theta_{ox}}\\cos{\\theta_{oy}})&                                                                                                                           (537\\cos{\\theta_{oy}}\\sin{\\theta_{ox}})/10000 + (5501\\sin{\\theta_{iy}}\\sin{\\theta_{oy}})/12500 - (5501\\cos{\\theta_{iy}}\\cos{\\theta_{ox}}\\cos{\\theta_{oy}})/12500\\\\\n",
        "                                                                                                                                                                                                                                                                                                         0&                                                                       0&                                                                                                                                                                                                                                                                                                           0&                                                                                                                                                                                                                                                                     1\n",
        "\\end{bmatrix}"
      ]
    },
    {
      "cell_type": "markdown",
      "metadata": {
        "id": "Ux48wQpMfaMr",
        "colab_type": "text"
      },
      "source": [
        "\\\\(\\phantom{}^0_{pr}T=\\\\)\n",
        "\\begin{bmatrix}\n",
        "  - \\cos{\\theta_{pr}}(\\sin{\\theta_{iy}}(\\sin{\\theta_{ox}}\\sin{\\theta_{oz}} + \\cos{\\theta_{ox}}\\cos{\\theta_{oz}}\\sin{\\theta_{oy}}) - \\cos{\\theta_{iy}}\\cos{\\theta_{oy}}\\cos{\\theta_{oz}}) - \\sin{\\theta_{pr}}(\\cos{\\theta_{iy}}(\\sin{\\theta_{ox}}\\sin{\\theta_{oz}} + \\cos{\\theta_{ox}}\\cos{\\theta_{oz}}\\sin{\\theta_{oy}}) + \\cos{\\theta_{oy}}\\cos{\\theta_{oz}}\\sin{\\theta_{iy}})& \\cos{\\theta_{oz}}\\sin{\\theta_{ox}}\\sin{\\theta_{oy}} - \\cos{\\theta_{ox}}\\sin{\\theta_{oz}}& \\cos{\\theta_{pr}}(\\cos{\\theta_{iy}}(\\sin{\\theta_{ox}}\\sin{\\theta_{oz}} + \\cos{\\theta_{ox}}\\cos{\\theta_{oz}}\\sin{\\theta_{oy}}) + \\cos{\\theta_{oy}}\\cos{\\theta_{oz}}\\sin{\\theta_{iy}}) - \\sin{\\theta_{pr}}(\\sin{\\theta_{iy}}(\\sin{\\theta_{ox}}\\sin{\\theta_{oz}} + \\cos{\\theta_{ox}}\\cos{\\theta_{oz}}\\sin{\\theta_{oy}}) - \\cos{\\theta_{iy}}\\cos{\\theta_{oy}}\\cos{\\theta_{oz}})& -x_0 + (537\\cos{\\theta_{ox}}\\sin{\\theta_{oz}})/10000 - (5501\\cos{\\theta_{iy}}(\\sin{\\theta_{ox}}\\sin{\\theta_{oz}} + \\cos{\\theta_{ox}}\\cos{\\theta_{oz}}\\sin{\\theta_{oy}}))/12500 - (537\\cos{\\theta_{oz}}\\sin{\\theta_{ox}}\\sin{\\theta_{oy}})/10000 - (5501\\cos{\\theta_{oy}}\\cos{\\theta_{oz}}\\sin{\\theta_{iy}})/12500\\\\\n",
        "   \\cos{\\theta_{pr}}(\\sin{\\theta_{iy}}(\\cos{\\theta_{oz}}\\sin{\\theta_{ox}} - \\cos{\\theta_{ox}}\\sin{\\theta_{oy}}\\sin{\\theta_{oz}}) + \\cos{\\theta_{iy}}\\cos{\\theta_{oy}}\\sin{\\theta_{oz}}) + \\sin{\\theta_{pr}}(\\cos{\\theta_{iy}}(\\cos{\\theta_{oz}}\\sin{\\theta_{ox}} - \\cos{\\theta_{ox}}\\sin{\\theta_{oy}}\\sin{\\theta_{oz}}) - \\cos{\\theta_{oy}}\\sin{\\theta_{iy}}\\sin{\\theta_{oz}})& \\cos{\\theta_{ox}}\\cos{\\theta_{oz}} + \\sin{\\theta_{ox}}\\sin{\\theta_{oy}}\\sin{\\theta_{oz}}& \\sin{\\theta_{pr}}(\\sin{\\theta_{iy}}(\\cos{\\theta_{oz}}\\sin{\\theta_{ox}} - \\cos{\\theta_{ox}}\\sin{\\theta_{oy}}\\sin{\\theta_{oz}}) + \\cos{\\theta_{iy}}\\cos{\\theta_{oy}}\\sin{\\theta_{oz}}) - \\cos{\\theta_{pr}}(\\cos{\\theta_{iy}}(\\cos{\\theta_{oz}}\\sin{\\theta_{ox}} - \\cos{\\theta_{ox}}\\sin{\\theta_{oy}}\\sin{\\theta_{oz}}) - \\cos{\\theta_{oy}}\\sin{\\theta_{iy}}\\sin{\\theta_{oz}})& (5501\\cos{\\theta_{iy}}(\\cos{\\theta_{oz}}\\sin{\\theta_{ox}} - \\cos{\\theta_{ox}}\\sin{\\theta_{oy}}\\sin{\\theta_{oz}}))/12500 - (537\\cos{\\theta_{ox}}\\cos{\\theta_{oz}})/10000 +y_0 - (5501\\cos{\\theta_{oy}}\\sin{\\theta_{iy}}\\sin{\\theta_{oz}})/12500 - (537\\sin{\\theta_{ox}}\\sin{\\theta_{oy}}\\sin{\\theta_{oz}})/10000\\\\\n",
        "                                                                                                                           \\sin{\\theta_{pr}}(\\sin{\\theta_{iy}}\\sin{\\theta_{oy}} - \\cos{\\theta_{iy}}\\cos{\\theta_{ox}}\\cos{\\theta_{oy}}) - \\cos{\\theta_{pr}}(\\cos{\\theta_{iy}}\\sin{\\theta_{oy}} + \\cos{\\theta_{ox}}\\cos{\\theta_{oy}}\\sin{\\theta_{iy}})&                                             \\cos{\\theta_{oy}}\\sin{\\theta_{ox}}&                                                                                                                       - \\cos{\\theta_{pr}}(\\sin{\\theta_{iy}}\\sin{\\theta_{oy}} - \\cos{\\theta_{iy}}\\cos{\\theta_{ox}}\\cos{\\theta_{oy}}) - \\sin{\\theta_{pr}}(\\cos{\\theta_{iy}}\\sin{\\theta_{oy}} + \\cos{\\theta_{ox}}\\cos{\\theta_{oy}}\\sin{\\theta_{iy}})&                                                                                                                           (5501\\sin{\\theta_{iy}}\\sin{\\theta_{oy}})/12500 - (537\\cos{\\theta_{oy}}\\sin{\\theta_{ox}})/10000 - (5501\\cos{\\theta_{iy}}\\cos{\\theta_{ox}}\\cos{\\theta_{oy}})/12500\\\\\n",
        "                                                                                                                                                                                                                                                                                                           0&                                                                       0&                                                                                                                                                                                                                                                                                                         0&                                                                                                                                                                                                                                                                     1\\\\\n",
        "\\end{bmatrix}"
      ]
    },
    {
      "cell_type": "markdown",
      "metadata": {
        "id": "2aFwf1K_gRBR",
        "colab_type": "text"
      },
      "source": [
        "\\\\(\\phantom{}^0_tT=\\\\)\n",
        "\\begin{bmatrix}\n",
        "\\cos{\\theta_{iy}}\\cos{\\theta_{oy}}\\cos{\\theta_{oz}} - \\sin{\\theta_{iy}}(\\sin{\\theta_{ox}}\\sin{\\theta_{oz}} + \\cos{\\theta_{ox}}\\cos{\\theta_{oz}}\\sin{\\theta_{oy}})& \\cos{\\theta_{oz}}\\sin{\\theta_{ox}}\\sin{\\theta_{oy}} - \\cos{\\theta_{ox}}\\sin{\\theta_{oz}}& \\cos{\\theta_{iy}}(\\sin{\\theta_{ox}}\\sin{\\theta_{oz}} + \\cos{\\theta_{ox}}\\cos{\\theta_{oz}}\\sin{\\theta_{oy}}) + \\cos{\\theta_{oy}}\\cos{\\theta_{oz}}\\sin{\\theta_{iy}}& -x_0 + (\\cos{\\theta_{ox}}\\sin{\\theta_{oz}} - \\cos{\\theta_{oz}}\\sin{\\theta_{ox}}\\sin{\\theta_{oy}})((7\\theta_{t}}/400 + 5170120489116105/288230376151711744) + (4598954775346707\\cos{\\theta_{iy}}(\\sin{\\theta_{ox}}\\sin{\\theta_{oz}} + \\cos{\\theta_{ox}}\\cos{\\theta_{oz}}\\sin{\\theta_{oy}}))/72057594037927936 + (1480259242649283\\sin{\\theta_{iy}}(\\sin{\\theta_{ox}}\\sin{\\theta_{oz}} + \\cos{\\theta_{ox}}\\cos{\\theta_{oz}}\\sin{\\theta_{oy}}))/4611686018427387904 - (1480259242649283\\cos{\\theta_{iy}}\\cos{\\theta_{oy}}\\cos{\\theta_{oz}})/4611686018427387904 + (4598954775346707\\cos{\\theta_{oy}}\\cos{\\theta_{oz}}\\sin{\\theta_{iy}})/72057594037927936\\\\\n",
        " \\sin{\\theta_{iy}}(\\cos{\\theta_{oz}}\\sin{\\theta_{ox}} - \\cos{\\theta_{ox}}\\sin{\\theta_{oy}}\\sin{\\theta_{oz}}) + \\cos{\\theta_{iy}}\\cos{\\theta_{oy}}\\sin{\\theta_{oz}}& \\cos{\\theta_{ox}}\\cos{\\theta_{oz}} + \\sin{\\theta_{ox}}\\sin{\\theta_{oy}}\\sin{\\theta_{oz}}& \\cos{\\theta_{oy}}\\sin{\\theta_{iy}}\\sin{\\theta_{oz}} - \\cos{\\theta_{iy}}(\\cos{\\theta_{oz}}\\sin{\\theta_{ox}} - \\cos{\\theta_{ox}}\\sin{\\theta_{oy}}\\sin{\\theta_{oz}})& (4598954775346707\\cos{\\theta_{oy}}\\sin{\\theta_{iy}}\\sin{\\theta_{oz}})/72057594037927936 - (\\cos{\\theta_{ox}}\\cos{\\theta_{oz}} + \\sin{\\theta_{ox}}\\sin{\\theta_{oy}}\\sin{\\theta_{oz}})((7\\theta_{t}}/400 + 5170120489116105/288230376151711744) - (4598954775346707\\cos{\\theta_{iy}}(\\cos{\\theta_{oz}}\\sin{\\theta_{ox}} - \\cos{\\theta_{ox}}\\sin{\\theta_{oy}}\\sin{\\theta_{oz}}))/72057594037927936 - (1480259242649283\\sin{\\theta_{iy}}(\\cos{\\theta_{oz}}\\sin{\\theta_{ox}} - \\cos{\\theta_{ox}}\\sin{\\theta_{oy}}\\sin{\\theta_{oz}}))/4611686018427387904 +y_0 - (1480259242649283\\cos{\\theta_{iy}}\\cos{\\theta_{oy}}\\sin{\\theta_{oz}})/4611686018427387904\\\\\n",
        "                                                           - \\cos{\\theta_{iy}}\\sin{\\theta_{oy}} - \\cos{\\theta_{ox}}\\cos{\\theta_{oy}}\\sin{\\theta_{iy}}&                                             \\cos{\\theta_{oy}}\\sin{\\theta_{ox}}&                                                             \\cos{\\theta_{iy}}\\cos{\\theta_{ox}}\\cos{\\theta_{oy}} - \\sin{\\theta_{iy}}\\sin{\\theta_{oy}}&                                                                                                                                                                             (1480259242649283\\cos{\\theta_{iy}}\\sin{\\theta_{oy}})/4611686018427387904 - (4598954775346707\\sin{\\theta_{iy}}\\sin{\\theta_{oy}})/72057594037927936 - \\cos{\\theta_{oy}}\\sin{\\theta_{ox}}((7\\theta_{t}}/400 + 5170120489116105/288230376151711744) + (4598954775346707\\cos{\\theta_{iy}}\\cos{\\theta_{ox}}\\cos{\\theta_{oy}})/72057594037927936 + (1480259242649283\\cos{\\theta_{ox}}\\cos{\\theta_{oy}}\\sin{\\theta_{iy}})/4611686018427387904\\\\\n",
        "                                                                                                                                   0&                                                                       0&                                                                                                                                   0&                                                                                                                                                                                                                                                                                                                                                                                                                                                                                                                                                                           1\\\\\n",
        "\\end{bmatrix}"
      ]
    }
  ]
}