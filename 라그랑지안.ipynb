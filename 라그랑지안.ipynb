{
  "nbformat": 4,
  "nbformat_minor": 0,
  "metadata": {
    "colab": {
      "name": "라그랑지안.ipynb",
      "provenance": [],
      "collapsed_sections": [],
      "authorship_tag": "ABX9TyM5ohF4pB/JEYGhdlXnlbwz",
      "include_colab_link": true
    },
    "kernelspec": {
      "name": "python3",
      "display_name": "Python 3"
    }
  },
  "cells": [
    {
      "cell_type": "markdown",
      "metadata": {
        "id": "view-in-github",
        "colab_type": "text"
      },
      "source": [
        "<a href=\"https://colab.research.google.com/github/SnovvyOwl/KHU_KongBot2/blob/controlrobot/%EB%9D%BC%EA%B7%B8%EB%9E%91%EC%A7%80%EC%95%88.ipynb\" target=\"_parent\"><img src=\"https://colab.research.google.com/assets/colab-badge.svg\" alt=\"Open In Colab\"/></a>"
      ]
    },
    {
      "cell_type": "markdown",
      "metadata": {
        "id": "6OsQI0UNGiZ5",
        "colab_type": "text"
      },
      "source": [
        "# 프레임 붙이기"
      ]
    },
    {
      "cell_type": "markdown",
      "metadata": {
        "id": "YWKHo09GAgiP",
        "colab_type": "text"
      },
      "source": [
        "\\\\(\\phantom{}^0_1T=\\\\)\n",
        "\\begin{bmatrix}\n",
        "1 &0 &0 & -x_o\\\\\n",
        "0& 1&  0& 0\\\\\n",
        "0& 0& 1 &0\\\\\n",
        "0&0&0&1\n",
        "\\end{bmatrix}\n",
        "\n",
        "\\\\(\\phantom{}^1_2T=\\\\)\n",
        "\\begin{bmatrix}\n",
        "1 &0 &0 & 0\\\\\n",
        "0& 1&  0& y_o\\\\\n",
        "0& 0& 1 &0\\\\\n",
        "0&0&0&1\n",
        "\\end{bmatrix}\n",
        "\n",
        "\\\\(\\phantom{}^2_3R=\\\\)\n",
        "\\begin{bmatrix}\n",
        "\\cos{\\theta_{oz}}& \\sin{\\theta_{oz}}&  0 & 0 \\\\\n",
        "-\\sin{\\theta_{oz}}& \\cos{\\theta_{oz}}&  0 & 0\\\\\n",
        "0& 0&1&0 \\\\\n",
        "0&0&0&1\n",
        "\\end{bmatrix}\n",
        "\n",
        "\n",
        "\\\\(\\phantom{}^3_4R=\\\\)\n",
        "\\begin{bmatrix}\n",
        "\\cos{\\theta_{oy}}& 0 & -\\sin{\\theta_{oy}} & 0 \\\\\n",
        "0 &1 &0 &0 \\\\\n",
        "\\sin{\\theta_{oy}}& 0 & \\cos{\\theta_{oy}}&0 \\\\\n",
        "0 &0 &0 &1\n",
        "\\end{bmatrix}\n",
        "\n",
        "\\\\(\\phantom{}^5_4R=\\\\)\n",
        "\\begin{bmatrix}\n",
        "1 &0 &0 &0 \\\\\n",
        "0 & \\cos{\\theta_{ox}}& \\sin{\\theta_{ox}} & 0 \\\\\n",
        "0 & -\\sin{\\theta_{ox}}& \\cos{\\theta_{ox}}&0 \\\\\n",
        "0 &0 &0 &1\n",
        "\\end{bmatrix}"
      ]
    },
    {
      "cell_type": "markdown",
      "metadata": {
        "id": "8qN263MlGo7x",
        "colab_type": "text"
      },
      "source": [
        "# 1. Shell\n",
        "\\\\(\\phantom{}^0V_o=[\\dot{x_o}, \\dot{y_o}, 0,1]^T\\\\)\n",
        "\n",
        "\\\\(\\phantom{}^0w_o=[\\frac{\\dot{y_o}}{r_o}, \\frac{-\\dot{x_o}}{r_o}, w_z,1]^T= [w_x, w_y, w_z,1]^T\\\\) \n",
        "\n",
        "\\\\(w_x,w_z= AHRS_{output}, w_y=\\phantom{}^0_1T^1_2T^2_3R^3_4R^4_5R^5w_{oy}\\\\) -> y 값만 가져옴\n",
        "\n",
        "\n",
        "\\\\(\\phantom{}^5w_{oy}= Encoder\\\\)"
      ]
    },
    {
      "cell_type": "markdown",
      "metadata": {
        "id": "FBHkpI6sJyTM",
        "colab_type": "text"
      },
      "source": [
        "# 2. IDU\n",
        "\\\\([\\phantom{}^ox_i,\\phantom{}^oy_i\\phantom{}^oz_i,1]^T= \\phantom{}^0_1T^1_2T^2_3R^3_4R^4_5R^5\\vec{r_{idu}}\\\\)\n",
        "\n",
        "\\\\(\\vec{r_{idu}}= IDU의\\ 무제중심 \\ 벡터\\\\)\n",
        "\n",
        "\\\\(\\phantom{}^0V_i=[\\dot{x_i}, \\dot{y_i}, \\dot{z_i},1]^T\\\\)\n",
        "\n",
        "\\\\(\\phantom{}^0w_i=\\phantom{}^0_1T^1_2T^2_3R^3_4R^4_5R^5w_{i}\\\\)\n",
        "\n",
        "\n",
        "\\\\(\\phantom{}^5w_i= [w_{ix}, w_{iy}, w_{iz},1]^T\\\\) -> 전부 AHRS 센싱가능\n"
      ]
    },
    {
      "cell_type": "markdown",
      "metadata": {
        "id": "Lnp0It6QMEu7",
        "colab_type": "text"
      },
      "source": [
        "# 3. Pendulum\n",
        "\\\\([\\phantom{}^ox_p,\\phantom{}^oy_p\\phantom{}^oz_p,1]^T= \\phantom{}^0_1T^1_2T^2_3R^3_4R^4_5T^5_6T R(\\theta_p) \\phantom{}^6\\vec{l_{p}}\\\\)\n",
        "\n",
        "\n",
        "\\\\(R(\\theta_p)=\\\\)\n",
        "\\begin{bmatrix}\n",
        "\\cos{\\theta_{p}}& 0 & \\sin{\\theta_{p}} & 0 \\\\\n",
        "0 &1 &0 &0 \\\\\n",
        "-\\sin{\\theta_{p}}& 0 & \\cos{\\theta_{p}}&0 \\\\\n",
        "0 &0 &0 &1\n",
        "\\end{bmatrix}\n",
        "\n",
        "\\\\(\\phantom{}^5_6T=\\\\)\n",
        "\\begin{bmatrix}\n",
        "1& 0 & 0 & 0 \\\\\n",
        "0 &1 &0 & r_{pmy} \\\\\n",
        "0 & 0 & 1& r_{pmz} \\\\\n",
        "0 &0 &0 &1\n",
        "\\end{bmatrix}\n",
        "\n",
        "\\\\(\\phantom{}^0V_p=[\\dot{x_p}, \\dot{y_p}, \\dot{z_p},1]^T\\\\)\n",
        "\n",
        "\\\\(\\phantom{}^0w_p=\\phantom{}^0_1T^1_2T^2_3R^3_4R^4_5R^5w_p\\\\)\n"
      ]
    },
    {
      "cell_type": "markdown",
      "metadata": {
        "id": "mFNk15LKWokP",
        "colab_type": "text"
      },
      "source": [
        "# 4. Tilt\n",
        "\\\\([\\phantom{}^ox_p,\\phantom{}^oy_p\\phantom{}^oz_p,1]^T= \\phantom{}^0_1T^1_2T^2_3R^3_4R^4_5R\\phantom{}^5\\vec{r_{t}}\\\\)\n",
        "\n",
        "\\\\(\\phantom{}^5r_t=[r_{tx},-r_{pin}\\theta_t,r_{tz},1]^T\\\\)\n",
        "\n",
        "\\\\(\\vec{w_t}=\\vec{w_i}\\\\)\n",
        "톱니바퀴에 에 회전은 고려하지 않음"
      ]
    },
    {
      "cell_type": "markdown",
      "metadata": {
        "id": "jW-vTA5RVV5F",
        "colab_type": "text"
      },
      "source": [
        "# Energy EQN.\n",
        "\\\\(\\phantom{}^0T=\\frac{1}{2}m_oV_o\\phantom{}^TV_o+\\frac{1}{2}m_{idu}V_i\\phantom{}^TV_i+\\frac{1}{2}m_tV_{t}\\phantom{}^TV_{t}+\\frac{1}{2}m_{pr}V_{pr}\\phantom{}^TV_{pr}+\\frac{1}{2}m_{pl}V_{pl}\\phantom{}^TV_{pr}+\\frac{1}{2}w_o\\phantom{}^TJ_o w_o+\\frac{1}{2}w_{i}\\phantom{}^TJ_{i} w_{i} +\\frac{1}{2}w_{pr}\\phantom{}^TJ_{pr} w_{pr}+\\frac{1}{2}w_{pl}\\phantom{}^TJ_{pl} w_{pl}+\\frac{1}{2}w_t\\phantom{}^TJ_t w_t\\\\)\n",
        "\n",
        "\n",
        "----------------------------------------------------------------\n",
        "\n",
        "\\\\(U=m_igz_{i}+m_{pr}gz_{pr}+m_{pl}gz_{pl}+m_tgz_{t}\\\\)"
      ]
    }
  ]
}